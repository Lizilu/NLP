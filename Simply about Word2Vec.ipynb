{
 "cells": [
  {
   "cell_type": "code",
   "execution_count": 27,
   "metadata": {},
   "outputs": [],
   "source": [
    "import pandas as pd\n",
    "import os\n",
    "import gensim\n",
    "from sklearn import manifold, datasets"
   ]
  },
  {
   "cell_type": "code",
   "execution_count": 3,
   "metadata": {},
   "outputs": [],
   "source": [
    "os.chdir('D:/学习资料/w2v kaggle')"
   ]
  },
  {
   "cell_type": "code",
   "execution_count": 6,
   "metadata": {},
   "outputs": [
    {
     "data": {
      "text/html": [
       "<div>\n",
       "<style scoped>\n",
       "    .dataframe tbody tr th:only-of-type {\n",
       "        vertical-align: middle;\n",
       "    }\n",
       "\n",
       "    .dataframe tbody tr th {\n",
       "        vertical-align: top;\n",
       "    }\n",
       "\n",
       "    .dataframe thead th {\n",
       "        text-align: right;\n",
       "    }\n",
       "</style>\n",
       "<table border=\"1\" class=\"dataframe\">\n",
       "  <thead>\n",
       "    <tr style=\"text-align: right;\">\n",
       "      <th></th>\n",
       "      <th>id</th>\n",
       "      <th>qid1</th>\n",
       "      <th>qid2</th>\n",
       "      <th>question1</th>\n",
       "      <th>question2</th>\n",
       "      <th>is_duplicate</th>\n",
       "    </tr>\n",
       "  </thead>\n",
       "  <tbody>\n",
       "    <tr>\n",
       "      <th>0</th>\n",
       "      <td>0</td>\n",
       "      <td>1</td>\n",
       "      <td>2</td>\n",
       "      <td>What is the step by step guide to invest in sh...</td>\n",
       "      <td>What is the step by step guide to invest in sh...</td>\n",
       "      <td>0</td>\n",
       "    </tr>\n",
       "    <tr>\n",
       "      <th>1</th>\n",
       "      <td>1</td>\n",
       "      <td>3</td>\n",
       "      <td>4</td>\n",
       "      <td>What is the story of Kohinoor (Koh-i-Noor) Dia...</td>\n",
       "      <td>What would happen if the Indian government sto...</td>\n",
       "      <td>0</td>\n",
       "    </tr>\n",
       "    <tr>\n",
       "      <th>2</th>\n",
       "      <td>2</td>\n",
       "      <td>5</td>\n",
       "      <td>6</td>\n",
       "      <td>How can I increase the speed of my internet co...</td>\n",
       "      <td>How can Internet speed be increased by hacking...</td>\n",
       "      <td>0</td>\n",
       "    </tr>\n",
       "    <tr>\n",
       "      <th>3</th>\n",
       "      <td>3</td>\n",
       "      <td>7</td>\n",
       "      <td>8</td>\n",
       "      <td>Why am I mentally very lonely? How can I solve...</td>\n",
       "      <td>Find the remainder when [math]23^{24}[/math] i...</td>\n",
       "      <td>0</td>\n",
       "    </tr>\n",
       "    <tr>\n",
       "      <th>4</th>\n",
       "      <td>4</td>\n",
       "      <td>9</td>\n",
       "      <td>10</td>\n",
       "      <td>Which one dissolve in water quikly sugar, salt...</td>\n",
       "      <td>Which fish would survive in salt water?</td>\n",
       "      <td>0</td>\n",
       "    </tr>\n",
       "  </tbody>\n",
       "</table>\n",
       "</div>"
      ],
      "text/plain": [
       "   id  qid1  qid2                                          question1  \\\n",
       "0   0     1     2  What is the step by step guide to invest in sh...   \n",
       "1   1     3     4  What is the story of Kohinoor (Koh-i-Noor) Dia...   \n",
       "2   2     5     6  How can I increase the speed of my internet co...   \n",
       "3   3     7     8  Why am I mentally very lonely? How can I solve...   \n",
       "4   4     9    10  Which one dissolve in water quikly sugar, salt...   \n",
       "\n",
       "                                           question2  is_duplicate  \n",
       "0  What is the step by step guide to invest in sh...             0  \n",
       "1  What would happen if the Indian government sto...             0  \n",
       "2  How can Internet speed be increased by hacking...             0  \n",
       "3  Find the remainder when [math]23^{24}[/math] i...             0  \n",
       "4            Which fish would survive in salt water?             0  "
      ]
     },
     "execution_count": 6,
     "metadata": {},
     "output_type": "execute_result"
    }
   ],
   "source": [
    "df = pd.read_csv(\"train/train.csv\")\n",
    "df.head()"
   ]
  },
  {
   "cell_type": "code",
   "execution_count": 13,
   "metadata": {},
   "outputs": [
    {
     "data": {
      "text/html": [
       "<div>\n",
       "<style scoped>\n",
       "    .dataframe tbody tr th:only-of-type {\n",
       "        vertical-align: middle;\n",
       "    }\n",
       "\n",
       "    .dataframe tbody tr th {\n",
       "        vertical-align: top;\n",
       "    }\n",
       "\n",
       "    .dataframe thead th {\n",
       "        text-align: right;\n",
       "    }\n",
       "</style>\n",
       "<table border=\"1\" class=\"dataframe\">\n",
       "  <thead>\n",
       "    <tr style=\"text-align: right;\">\n",
       "      <th></th>\n",
       "      <th>id</th>\n",
       "      <th>qid1</th>\n",
       "      <th>qid2</th>\n",
       "      <th>question1</th>\n",
       "      <th>question2</th>\n",
       "      <th>is_duplicate</th>\n",
       "    </tr>\n",
       "  </thead>\n",
       "  <tbody>\n",
       "    <tr>\n",
       "      <th>5</th>\n",
       "      <td>5</td>\n",
       "      <td>11</td>\n",
       "      <td>12</td>\n",
       "      <td>Astrology: I am a Capricorn Sun Cap moon and c...</td>\n",
       "      <td>I'm a triple Capricorn (Sun, Moon and ascendan...</td>\n",
       "      <td>1</td>\n",
       "    </tr>\n",
       "    <tr>\n",
       "      <th>7</th>\n",
       "      <td>7</td>\n",
       "      <td>15</td>\n",
       "      <td>16</td>\n",
       "      <td>How can I be a good geologist?</td>\n",
       "      <td>What should I do to be a great geologist?</td>\n",
       "      <td>1</td>\n",
       "    </tr>\n",
       "    <tr>\n",
       "      <th>11</th>\n",
       "      <td>11</td>\n",
       "      <td>23</td>\n",
       "      <td>24</td>\n",
       "      <td>How do I read and find my YouTube comments?</td>\n",
       "      <td>How can I see all my Youtube comments?</td>\n",
       "      <td>1</td>\n",
       "    </tr>\n",
       "    <tr>\n",
       "      <th>12</th>\n",
       "      <td>12</td>\n",
       "      <td>25</td>\n",
       "      <td>26</td>\n",
       "      <td>What can make Physics easy to learn?</td>\n",
       "      <td>How can you make physics easy to learn?</td>\n",
       "      <td>1</td>\n",
       "    </tr>\n",
       "    <tr>\n",
       "      <th>13</th>\n",
       "      <td>13</td>\n",
       "      <td>27</td>\n",
       "      <td>28</td>\n",
       "      <td>What was your first sexual experience like?</td>\n",
       "      <td>What was your first sexual experience?</td>\n",
       "      <td>1</td>\n",
       "    </tr>\n",
       "    <tr>\n",
       "      <th>...</th>\n",
       "      <td>...</td>\n",
       "      <td>...</td>\n",
       "      <td>...</td>\n",
       "      <td>...</td>\n",
       "      <td>...</td>\n",
       "      <td>...</td>\n",
       "    </tr>\n",
       "    <tr>\n",
       "      <th>404280</th>\n",
       "      <td>404280</td>\n",
       "      <td>537922</td>\n",
       "      <td>537923</td>\n",
       "      <td>What are some outfit ideas to wear to a frat p...</td>\n",
       "      <td>What are some outfit ideas wear to a frat them...</td>\n",
       "      <td>1</td>\n",
       "    </tr>\n",
       "    <tr>\n",
       "      <th>404281</th>\n",
       "      <td>404281</td>\n",
       "      <td>99131</td>\n",
       "      <td>81495</td>\n",
       "      <td>Why is Manaphy childish in Pokémon Ranger and ...</td>\n",
       "      <td>Why is Manaphy annoying in Pokemon ranger and ...</td>\n",
       "      <td>1</td>\n",
       "    </tr>\n",
       "    <tr>\n",
       "      <th>404282</th>\n",
       "      <td>404282</td>\n",
       "      <td>1931</td>\n",
       "      <td>16773</td>\n",
       "      <td>How does a long distance relationship work?</td>\n",
       "      <td>How are long distance relationships maintained?</td>\n",
       "      <td>1</td>\n",
       "    </tr>\n",
       "    <tr>\n",
       "      <th>404284</th>\n",
       "      <td>404284</td>\n",
       "      <td>537926</td>\n",
       "      <td>537927</td>\n",
       "      <td>What does Jainism say about homosexuality?</td>\n",
       "      <td>What does Jainism say about Gays and Homosexua...</td>\n",
       "      <td>1</td>\n",
       "    </tr>\n",
       "    <tr>\n",
       "      <th>404286</th>\n",
       "      <td>404286</td>\n",
       "      <td>18840</td>\n",
       "      <td>155606</td>\n",
       "      <td>Do you believe there is life after death?</td>\n",
       "      <td>Is it true that there is life after death?</td>\n",
       "      <td>1</td>\n",
       "    </tr>\n",
       "  </tbody>\n",
       "</table>\n",
       "<p>149263 rows × 6 columns</p>\n",
       "</div>"
      ],
      "text/plain": [
       "            id    qid1    qid2  \\\n",
       "5            5      11      12   \n",
       "7            7      15      16   \n",
       "11          11      23      24   \n",
       "12          12      25      26   \n",
       "13          13      27      28   \n",
       "...        ...     ...     ...   \n",
       "404280  404280  537922  537923   \n",
       "404281  404281   99131   81495   \n",
       "404282  404282    1931   16773   \n",
       "404284  404284  537926  537927   \n",
       "404286  404286   18840  155606   \n",
       "\n",
       "                                                question1  \\\n",
       "5       Astrology: I am a Capricorn Sun Cap moon and c...   \n",
       "7                          How can I be a good geologist?   \n",
       "11            How do I read and find my YouTube comments?   \n",
       "12                   What can make Physics easy to learn?   \n",
       "13            What was your first sexual experience like?   \n",
       "...                                                   ...   \n",
       "404280  What are some outfit ideas to wear to a frat p...   \n",
       "404281  Why is Manaphy childish in Pokémon Ranger and ...   \n",
       "404282        How does a long distance relationship work?   \n",
       "404284         What does Jainism say about homosexuality?   \n",
       "404286          Do you believe there is life after death?   \n",
       "\n",
       "                                                question2  is_duplicate  \n",
       "5       I'm a triple Capricorn (Sun, Moon and ascendan...             1  \n",
       "7               What should I do to be a great geologist?             1  \n",
       "11                 How can I see all my Youtube comments?             1  \n",
       "12                How can you make physics easy to learn?             1  \n",
       "13                 What was your first sexual experience?             1  \n",
       "...                                                   ...           ...  \n",
       "404280  What are some outfit ideas wear to a frat them...             1  \n",
       "404281  Why is Manaphy annoying in Pokemon ranger and ...             1  \n",
       "404282    How are long distance relationships maintained?             1  \n",
       "404284  What does Jainism say about Gays and Homosexua...             1  \n",
       "404286         Is it true that there is life after death?             1  \n",
       "\n",
       "[149263 rows x 6 columns]"
      ]
     },
     "execution_count": 13,
     "metadata": {},
     "output_type": "execute_result"
    }
   ],
   "source": [
    "df[df.is_duplicate!=0]"
   ]
  },
  {
   "cell_type": "code",
   "execution_count": 10,
   "metadata": {},
   "outputs": [],
   "source": [
    "def read_questions(row,column_name):\n",
    "    return gensim.utils.simple_preprocess(str(row[column_name]).encode('utf-8'))\n",
    "    \n",
    "documents = []\n",
    "for index, row in df.iterrows():\n",
    "    documents.append(read_questions(row,\"question1\"))\n",
    "    if row[\"is_duplicate\"] == 0:\n",
    "        documents.append(read_questions(row,\"question2\"))"
   ]
  },
  {
   "cell_type": "code",
   "execution_count": 14,
   "metadata": {},
   "outputs": [
    {
     "name": "stdout",
     "output_type": "stream",
     "text": [
      "List of lists. Let's confirm:  <class 'list'>  of  <class 'list'>\n"
     ]
    }
   ],
   "source": [
    "print(\"List of lists. Let's confirm: \", type(documents), \" of \", type(documents[0]))"
   ]
  },
  {
   "cell_type": "code",
   "execution_count": 19,
   "metadata": {},
   "outputs": [
    {
     "data": {
      "text/plain": [
       "659317"
      ]
     },
     "execution_count": 19,
     "metadata": {},
     "output_type": "execute_result"
    }
   ],
   "source": [
    "len(documents)"
   ]
  },
  {
   "cell_type": "code",
   "execution_count": 17,
   "metadata": {},
   "outputs": [],
   "source": [
    "model = gensim.models.Word2Vec(size=150, window=10, min_count=2, sg=1, workers=10)\n",
    "model.build_vocab(documents)  # prepare the model vocabulary"
   ]
  },
  {
   "cell_type": "code",
   "execution_count": 18,
   "metadata": {},
   "outputs": [
    {
     "name": "stderr",
     "output_type": "stream",
     "text": [
      "E:\\Anaconda\\lib\\site-packages\\ipykernel_launcher.py:1: DeprecationWarning: Call to deprecated `iter` (Attribute will be removed in 4.0.0, use self.epochs instead).\n",
      "  \"\"\"Entry point for launching an IPython kernel.\n"
     ]
    },
    {
     "data": {
      "text/plain": [
       "(25465648, 35144510)"
      ]
     },
     "execution_count": 18,
     "metadata": {},
     "output_type": "execute_result"
    }
   ],
   "source": [
    "model.train(sentences=documents, total_examples=len(documents), epochs=model.iter)"
   ]
  },
  {
   "cell_type": "code",
   "execution_count": 20,
   "metadata": {},
   "outputs": [
    {
     "name": "stdout",
     "output_type": "stream",
     "text": [
      "what\n",
      "is\n",
      "the\n",
      "step\n",
      "by\n",
      "guide\n",
      "to\n",
      "invest\n",
      "in\n",
      "share\n"
     ]
    }
   ],
   "source": [
    "word_vectors = model.wv\n",
    "count = 0\n",
    "for word in word_vectors.vocab:\n",
    "    if count<10:\n",
    "        print(word)\n",
    "        count += 1\n",
    "    else:\n",
    "        break"
   ]
  },
  {
   "cell_type": "code",
   "execution_count": 22,
   "metadata": {},
   "outputs": [
    {
     "data": {
      "text/plain": [
       "47336"
      ]
     },
     "execution_count": 22,
     "metadata": {},
     "output_type": "execute_result"
    }
   ],
   "source": [
    "len(word_vectors.vocab)"
   ]
  },
  {
   "cell_type": "code",
   "execution_count": 23,
   "metadata": {},
   "outputs": [
    {
     "data": {
      "text/plain": [
       "150"
      ]
     },
     "execution_count": 23,
     "metadata": {},
     "output_type": "execute_result"
    }
   ],
   "source": [
    "vector = model.wv[\"immigration\"]  # numpy vector of a word\n",
    "len(vector)"
   ]
  },
  {
   "cell_type": "code",
   "execution_count": 24,
   "metadata": {},
   "outputs": [
    {
     "data": {
      "text/plain": [
       "array([-0.25191367, -0.02799858, -0.15073036,  0.04868467,  0.5284479 ,\n",
       "       -0.64226574,  0.18766026, -0.0907938 , -0.46169063,  0.5726536 ,\n",
       "        0.1656834 ,  0.0400943 , -0.3067293 , -0.58253026, -0.3559638 ,\n",
       "        0.04842531,  0.16947259, -0.22331204, -0.20321561, -0.0380627 ,\n",
       "        0.48531908,  0.23873797, -0.36215043,  0.2021394 , -0.5436542 ,\n",
       "        0.04908365,  0.4445744 ,  0.5413018 ,  0.13863544, -0.34487286,\n",
       "       -0.4110999 , -0.05747535, -0.30890837,  0.17287   ,  0.21310034,\n",
       "       -0.2925808 ,  0.46872512,  0.43334678,  0.20295928,  0.3810604 ,\n",
       "        0.10093897, -0.19137011,  0.11026847, -0.04214545,  0.28576815,\n",
       "        0.11892281,  0.3307407 ,  0.04205727, -0.31334224,  0.46603468,\n",
       "        0.28390753, -0.75928307, -0.8602624 ,  0.26600996,  0.06837343,\n",
       "        0.53394884, -0.22179963,  0.1705253 ,  0.52850765,  0.45267555,\n",
       "       -0.11282887,  0.19068198,  0.8846484 , -0.47691754,  0.11081561,\n",
       "        0.10067139, -0.16819775,  0.03175551,  0.0116802 , -0.34471053,\n",
       "       -0.1114731 ,  0.11259107, -0.33082184, -0.1939868 ,  0.4217058 ,\n",
       "        0.46075663, -0.20266299, -0.34699744, -0.27764466,  0.26526198,\n",
       "       -0.3922208 , -0.5868982 , -0.59786785, -0.41189054,  0.14506331,\n",
       "       -0.26993984,  0.09433383, -0.4915115 ,  0.344288  ,  0.31035957,\n",
       "        0.42597038,  0.30921856,  0.467616  ,  0.12769723, -0.3119901 ,\n",
       "       -0.64996916, -0.3855261 , -0.27596876,  0.2137295 , -0.22755082,\n",
       "        0.20120808,  0.33998534, -0.20333311,  0.135598  , -0.8818595 ,\n",
       "       -0.16974935,  0.06122683,  0.3635836 , -0.1799196 ,  0.0618811 ,\n",
       "       -0.40684733,  0.03464337,  0.11546192,  0.24647969, -0.20526716,\n",
       "       -0.03269165,  0.15714973, -0.01665547,  0.9188541 ,  0.05372055,\n",
       "       -0.02441706, -0.31723872, -0.09414629, -0.40449992,  0.18403585,\n",
       "       -0.20472416, -0.08695448, -0.08441027, -0.5336502 ,  0.5374866 ,\n",
       "        0.03927508,  0.03568288,  0.6586671 ,  0.11188809,  0.38403994,\n",
       "       -0.1529724 ,  0.03934464,  0.07949068, -0.3396289 , -0.17129637,\n",
       "       -0.13490991, -0.14069682, -0.2178953 ,  0.34496897, -0.20078316,\n",
       "        0.22422133, -0.13853574, -0.20718803,  0.38294256,  0.03102262],\n",
       "      dtype=float32)"
      ]
     },
     "execution_count": 24,
     "metadata": {},
     "output_type": "execute_result"
    }
   ],
   "source": [
    "vector"
   ]
  },
  {
   "cell_type": "code",
   "execution_count": 25,
   "metadata": {},
   "outputs": [
    {
     "data": {
      "text/plain": [
       "{'what': <gensim.models.keyedvectors.Vocab at 0x2c3e1d48518>,\n",
       " 'is': <gensim.models.keyedvectors.Vocab at 0x2c384d79358>,\n",
       " 'the': <gensim.models.keyedvectors.Vocab at 0x2c384d79cf8>,\n",
       " 'step': <gensim.models.keyedvectors.Vocab at 0x2c384d79f98>,\n",
       " 'by': <gensim.models.keyedvectors.Vocab at 0x2c384d285f8>,\n",
       " 'guide': <gensim.models.keyedvectors.Vocab at 0x2c384d284e0>,\n",
       " 'to': <gensim.models.keyedvectors.Vocab at 0x2c384d28710>,\n",
       " 'invest': <gensim.models.keyedvectors.Vocab at 0x2c384d28860>,\n",
       " 'in': <gensim.models.keyedvectors.Vocab at 0x2c384d28198>,\n",
       " 'share': <gensim.models.keyedvectors.Vocab at 0x2c384d28518>,\n",
       " 'market': <gensim.models.keyedvectors.Vocab at 0x2c384d286d8>,\n",
       " 'india': <gensim.models.keyedvectors.Vocab at 0x2c384d285c0>,\n",
       " 'story': <gensim.models.keyedvectors.Vocab at 0x2c384d280f0>,\n",
       " 'of': <gensim.models.keyedvectors.Vocab at 0x2c384d28908>,\n",
       " 'kohinoor': <gensim.models.keyedvectors.Vocab at 0x2c384d280b8>,\n",
       " 'koh': <gensim.models.keyedvectors.Vocab at 0x2c384d289b0>,\n",
       " 'noor': <gensim.models.keyedvectors.Vocab at 0x2c384d28358>,\n",
       " 'diamond': <gensim.models.keyedvectors.Vocab at 0x2c384d287b8>,\n",
       " 'would': <gensim.models.keyedvectors.Vocab at 0x2c384d283c8>,\n",
       " 'happen': <gensim.models.keyedvectors.Vocab at 0x2c384d28978>,\n",
       " 'if': <gensim.models.keyedvectors.Vocab at 0x2c384d28588>,\n",
       " 'indian': <gensim.models.keyedvectors.Vocab at 0x2c384d28320>,\n",
       " 'government': <gensim.models.keyedvectors.Vocab at 0x2c384d284a8>,\n",
       " 'stole': <gensim.models.keyedvectors.Vocab at 0x2c384d28a58>,\n",
       " 'back': <gensim.models.keyedvectors.Vocab at 0x2c384d28438>,\n",
       " 'how': <gensim.models.keyedvectors.Vocab at 0x2c384d28390>,\n",
       " 'can': <gensim.models.keyedvectors.Vocab at 0x2c384d28cc0>,\n",
       " 'increase': <gensim.models.keyedvectors.Vocab at 0x2c384d28668>,\n",
       " 'speed': <gensim.models.keyedvectors.Vocab at 0x2c384d28748>,\n",
       " 'my': <gensim.models.keyedvectors.Vocab at 0x2c384d28160>,\n",
       " 'internet': <gensim.models.keyedvectors.Vocab at 0x2c384d286a0>,\n",
       " 'connection': <gensim.models.keyedvectors.Vocab at 0x2c384d288d0>,\n",
       " 'while': <gensim.models.keyedvectors.Vocab at 0x2c384d28278>,\n",
       " 'using': <gensim.models.keyedvectors.Vocab at 0x2c384d282b0>,\n",
       " 'vpn': <gensim.models.keyedvectors.Vocab at 0x2c384d28eb8>,\n",
       " 'be': <gensim.models.keyedvectors.Vocab at 0x2c384d28b70>,\n",
       " 'increased': <gensim.models.keyedvectors.Vocab at 0x2c384d28550>,\n",
       " 'hacking': <gensim.models.keyedvectors.Vocab at 0x2c384d28ef0>,\n",
       " 'through': <gensim.models.keyedvectors.Vocab at 0x2c384d28b38>,\n",
       " 'dns': <gensim.models.keyedvectors.Vocab at 0x2c384d28400>,\n",
       " 'why': <gensim.models.keyedvectors.Vocab at 0x2c384d28128>,\n",
       " 'am': <gensim.models.keyedvectors.Vocab at 0x2c384d281d0>,\n",
       " 'mentally': <gensim.models.keyedvectors.Vocab at 0x2c384d28c18>,\n",
       " 'very': <gensim.models.keyedvectors.Vocab at 0x2c384d28d68>,\n",
       " 'lonely': <gensim.models.keyedvectors.Vocab at 0x2c384d28c50>,\n",
       " 'solve': <gensim.models.keyedvectors.Vocab at 0x2c384d28cf8>,\n",
       " 'it': <gensim.models.keyedvectors.Vocab at 0x2c384d28e10>,\n",
       " 'find': <gensim.models.keyedvectors.Vocab at 0x2c384d28ac8>,\n",
       " 'remainder': <gensim.models.keyedvectors.Vocab at 0x2c384d28e48>,\n",
       " 'when': <gensim.models.keyedvectors.Vocab at 0x2c384d28be0>,\n",
       " 'math': <gensim.models.keyedvectors.Vocab at 0x2c384d28b00>,\n",
       " 'divided': <gensim.models.keyedvectors.Vocab at 0x2c384d28470>,\n",
       " 'which': <gensim.models.keyedvectors.Vocab at 0x2c384d28828>,\n",
       " 'one': <gensim.models.keyedvectors.Vocab at 0x2c384d28940>,\n",
       " 'dissolve': <gensim.models.keyedvectors.Vocab at 0x2c384d28da0>,\n",
       " 'water': <gensim.models.keyedvectors.Vocab at 0x2c384d28ba8>,\n",
       " 'quikly': <gensim.models.keyedvectors.Vocab at 0x2c384d28f98>,\n",
       " 'sugar': <gensim.models.keyedvectors.Vocab at 0x2c384d28f28>,\n",
       " 'salt': <gensim.models.keyedvectors.Vocab at 0x2c384d28a90>,\n",
       " 'methane': <gensim.models.keyedvectors.Vocab at 0x2c384d28fd0>,\n",
       " 'and': <gensim.models.keyedvectors.Vocab at 0x2c384d28780>,\n",
       " 'carbon': <gensim.models.keyedvectors.Vocab at 0x2c384d28898>,\n",
       " 'di': <gensim.models.keyedvectors.Vocab at 0x2c384d28f60>,\n",
       " 'oxide': <gensim.models.keyedvectors.Vocab at 0x2c384d28e80>,\n",
       " 'fish': <gensim.models.keyedvectors.Vocab at 0x2c384d28dd8>,\n",
       " 'survive': <gensim.models.keyedvectors.Vocab at 0x2c384d28d30>,\n",
       " 'astrology': <gensim.models.keyedvectors.Vocab at 0x2c384d28c88>,\n",
       " 'capricorn': <gensim.models.keyedvectors.Vocab at 0x2c384d28a20>,\n",
       " 'sun': <gensim.models.keyedvectors.Vocab at 0x2c384d46048>,\n",
       " 'cap': <gensim.models.keyedvectors.Vocab at 0x2c384d46400>,\n",
       " 'moon': <gensim.models.keyedvectors.Vocab at 0x2c384d46128>,\n",
       " 'rising': <gensim.models.keyedvectors.Vocab at 0x2c384d46208>,\n",
       " 'does': <gensim.models.keyedvectors.Vocab at 0x2c384d462b0>,\n",
       " 'that': <gensim.models.keyedvectors.Vocab at 0x2c384d46198>,\n",
       " 'say': <gensim.models.keyedvectors.Vocab at 0x2c384d46240>,\n",
       " 'about': <gensim.models.keyedvectors.Vocab at 0x2c384d46390>,\n",
       " 'me': <gensim.models.keyedvectors.Vocab at 0x2c384d462e8>,\n",
       " 'should': <gensim.models.keyedvectors.Vocab at 0x2c384d460b8>,\n",
       " 'buy': <gensim.models.keyedvectors.Vocab at 0x2c384d46358>,\n",
       " 'tiago': <gensim.models.keyedvectors.Vocab at 0x2c384d46080>,\n",
       " 'keeps': <gensim.models.keyedvectors.Vocab at 0x2c384d463c8>,\n",
       " 'active': <gensim.models.keyedvectors.Vocab at 0x2c384d464e0>,\n",
       " 'far': <gensim.models.keyedvectors.Vocab at 0x2c384d46470>,\n",
       " 'from': <gensim.models.keyedvectors.Vocab at 0x2c384d460f0>,\n",
       " 'phone': <gensim.models.keyedvectors.Vocab at 0x2c384d46518>,\n",
       " 'video': <gensim.models.keyedvectors.Vocab at 0x2c384d46588>,\n",
       " 'games': <gensim.models.keyedvectors.Vocab at 0x2c384d465f8>,\n",
       " 'good': <gensim.models.keyedvectors.Vocab at 0x2c384d46550>,\n",
       " 'geologist': <gensim.models.keyedvectors.Vocab at 0x2c384d466a0>,\n",
       " 'do': <gensim.models.keyedvectors.Vocab at 0x2c384d46710>,\n",
       " 'you': <gensim.models.keyedvectors.Vocab at 0x2c384d46160>,\n",
       " 'use': <gensim.models.keyedvectors.Vocab at 0x2c384d464a8>,\n",
       " 'instead': <gensim.models.keyedvectors.Vocab at 0x2c384d46278>,\n",
       " 'motorola': <gensim.models.keyedvectors.Vocab at 0x2c384d46438>,\n",
       " 'company': <gensim.models.keyedvectors.Vocab at 0x2c384d461d0>,\n",
       " 'hack': <gensim.models.keyedvectors.Vocab at 0x2c384d46630>,\n",
       " 'charter': <gensim.models.keyedvectors.Vocab at 0x2c384d46320>,\n",
       " 'dcx': <gensim.models.keyedvectors.Vocab at 0x2c384d466d8>,\n",
       " 'for': <gensim.models.keyedvectors.Vocab at 0x2c384d465c0>,\n",
       " 'free': <gensim.models.keyedvectors.Vocab at 0x2c384d46668>,\n",
       " 'method': <gensim.models.keyedvectors.Vocab at 0x2c384d467b8>,\n",
       " 'separation': <gensim.models.keyedvectors.Vocab at 0x2c384d46748>,\n",
       " 'slits': <gensim.models.keyedvectors.Vocab at 0x2c384d46828>,\n",
       " 'fresnel': <gensim.models.keyedvectors.Vocab at 0x2c384d46780>,\n",
       " 'are': <gensim.models.keyedvectors.Vocab at 0x2c384d46898>,\n",
       " 'some': <gensim.models.keyedvectors.Vocab at 0x2c384d467f0>,\n",
       " 'things': <gensim.models.keyedvectors.Vocab at 0x2c384d46908>,\n",
       " 'technicians': <gensim.models.keyedvectors.Vocab at 0x2c384d46860>,\n",
       " 'tell': <gensim.models.keyedvectors.Vocab at 0x2c384d46978>,\n",
       " 'durability': <gensim.models.keyedvectors.Vocab at 0x2c384d468d0>,\n",
       " 'reliability': <gensim.models.keyedvectors.Vocab at 0x2c384d469e8>,\n",
       " 'laptops': <gensim.models.keyedvectors.Vocab at 0x2c384d46940>,\n",
       " 'its': <gensim.models.keyedvectors.Vocab at 0x2c384d46a58>,\n",
       " 'components': <gensim.models.keyedvectors.Vocab at 0x2c384d469b0>,\n",
       " 'read': <gensim.models.keyedvectors.Vocab at 0x2c384d46a20>,\n",
       " 'youtube': <gensim.models.keyedvectors.Vocab at 0x2c384d46a90>,\n",
       " 'comments': <gensim.models.keyedvectors.Vocab at 0x2c384d46be0>,\n",
       " 'make': <gensim.models.keyedvectors.Vocab at 0x2c384d46b70>,\n",
       " 'physics': <gensim.models.keyedvectors.Vocab at 0x2c384d46ac8>,\n",
       " 'easy': <gensim.models.keyedvectors.Vocab at 0x2c384d46c50>,\n",
       " 'learn': <gensim.models.keyedvectors.Vocab at 0x2c384d46cc0>,\n",
       " 'was': <gensim.models.keyedvectors.Vocab at 0x2c384d46da0>,\n",
       " 'your': <gensim.models.keyedvectors.Vocab at 0x2c384d46d30>,\n",
       " 'first': <gensim.models.keyedvectors.Vocab at 0x2c384d46e48>,\n",
       " 'sexual': <gensim.models.keyedvectors.Vocab at 0x2c384d46dd8>,\n",
       " 'experience': <gensim.models.keyedvectors.Vocab at 0x2c384d46ef0>,\n",
       " 'like': <gensim.models.keyedvectors.Vocab at 0x2c384d46e80>,\n",
       " 'laws': <gensim.models.keyedvectors.Vocab at 0x2c384d46f98>,\n",
       " 'change': <gensim.models.keyedvectors.Vocab at 0x2c384d46f28>,\n",
       " 'status': <gensim.models.keyedvectors.Vocab at 0x2c384d46d68>,\n",
       " 'student': <gensim.models.keyedvectors.Vocab at 0x2c384d46e10>,\n",
       " 'visa': <gensim.models.keyedvectors.Vocab at 0x2c384d46eb8>,\n",
       " 'green': <gensim.models.keyedvectors.Vocab at 0x2c384d46f60>,\n",
       " 'card': <gensim.models.keyedvectors.Vocab at 0x2c384d46c88>,\n",
       " 'us': <gensim.models.keyedvectors.Vocab at 0x2c384d46c18>,\n",
       " 'they': <gensim.models.keyedvectors.Vocab at 0x2c384d46fd0>,\n",
       " 'compare': <gensim.models.keyedvectors.Vocab at 0x2c384d46cf8>,\n",
       " 'immigration': <gensim.models.keyedvectors.Vocab at 0x2c384d46ba8>,\n",
       " 'canada': <gensim.models.keyedvectors.Vocab at 0x2c384d46b00>,\n",
       " 'japan': <gensim.models.keyedvectors.Vocab at 0x2c3e4d51860>,\n",
       " 'trump': <gensim.models.keyedvectors.Vocab at 0x2c3e4d51978>,\n",
       " 'presidency': <gensim.models.keyedvectors.Vocab at 0x2c3e4d518d0>,\n",
       " 'mean': <gensim.models.keyedvectors.Vocab at 0x2c3e4d51940>,\n",
       " 'current': <gensim.models.keyedvectors.Vocab at 0x2c3e4d51ba8>,\n",
       " 'international': <gensim.models.keyedvectors.Vocab at 0x2c3e4d519e8>,\n",
       " 'master': <gensim.models.keyedvectors.Vocab at 0x2c3e4d51cf8>,\n",
       " 'students': <gensim.models.keyedvectors.Vocab at 0x2c3e4d51c50>,\n",
       " 'on': <gensim.models.keyedvectors.Vocab at 0x2c3e4d51c18>,\n",
       " 'an': <gensim.models.keyedvectors.Vocab at 0x2c3e4d51c88>,\n",
       " 'manipulation': <gensim.models.keyedvectors.Vocab at 0x2c3e4d51a58>}"
      ]
     },
     "execution_count": 25,
     "metadata": {},
     "output_type": "execute_result"
    }
   ],
   "source": [
    "wanted_words = []\n",
    "count = 0\n",
    "for word in word_vectors.vocab:\n",
    "    if count<150:\n",
    "        wanted_words.append(word)\n",
    "        count += 1\n",
    "    else:\n",
    "        break\n",
    "wanted_vocab = dict((k, word_vectors.vocab[k]) for k in wanted_words if k in word_vectors.vocab)\n",
    "wanted_vocab"
   ]
  },
  {
   "cell_type": "code",
   "execution_count": 29,
   "metadata": {},
   "outputs": [
    {
     "name": "stderr",
     "output_type": "stream",
     "text": [
      "E:\\Anaconda\\lib\\site-packages\\ipykernel_launcher.py:1: DeprecationWarning: Call to deprecated `__getitem__` (Method will be removed in 4.0.0, use self.wv.__getitem__() instead).\n",
      "  \"\"\"Entry point for launching an IPython kernel.\n"
     ]
    }
   ],
   "source": [
    "X = model[wanted_vocab] # X is an array of word vectors, each vector containing 150 tokens\n",
    "tsne_model = manifold.TSNE(perplexity=40, n_components=2, init=\"pca\", n_iter=5000, random_state=23)\n",
    "Y = tsne_model.fit_transform(X)"
   ]
  },
  {
   "cell_type": "code",
   "execution_count": 35,
   "metadata": {},
   "outputs": [
    {
     "data": {
      "image/png": "[encoded data removed]",
      "text/plain": [
       "<Figure size 1440x720 with 1 Axes>"
      ]
     },
     "metadata": {
      "needs_background": "light"
     },
     "output_type": "display_data"
    }
   ],
   "source": [
    "#Plot the t-SNE output\n",
    "import matplotlib.pyplot as plt\n",
    "fig, ax = plt.subplots(figsize=(20,10))\n",
    "ax.scatter(Y[:, 0], Y[:, 1])\n",
    "words = list(wanted_vocab)\n",
    "for i, word in enumerate(words):\n",
    "    plt.annotate(word, xy=(Y[i, 0], Y[i, 1]))\n",
    "ax.set_yticklabels([]) #Hide ticks\n",
    "ax.set_xticklabels([]) #Hide ticks\n",
    "_ = plt.show()"
   ]
  },
  {
   "cell_type": "code",
   "execution_count": 36,
   "metadata": {},
   "outputs": [
    {
     "data": {
      "text/plain": [
       "[('mobile', 0.7854401469230652),\n",
       " ('phones', 0.7666906714439392),\n",
       " ('smartphone', 0.7493506669998169),\n",
       " ('iphone', 0.7275946140289307),\n",
       " ('device', 0.7189710140228271)]"
      ]
     },
     "execution_count": 36,
     "metadata": {},
     "output_type": "execute_result"
    }
   ],
   "source": [
    "w1 = \"phone\"\n",
    "model.wv.most_similar(positive=w1, topn=5)"
   ]
  },
  {
   "cell_type": "code",
   "execution_count": 37,
   "metadata": {},
   "outputs": [
    {
     "data": {
      "text/plain": [
       "[('equality', 0.5924725532531738), ('advocates', 0.5724838972091675)]"
      ]
     },
     "execution_count": 37,
     "metadata": {},
     "output_type": "execute_result"
    }
   ],
   "source": [
    "w1 = [\"women\",\"rights\"]\n",
    "w2 = [\"girls\"]\n",
    "model.wv.most_similar (positive=w1,negative=w2,topn=2)"
   ]
  },
  {
   "cell_type": "code",
   "execution_count": null,
   "metadata": {},
   "outputs": [],
   "source": []
  }
 ],
 "metadata": {
  "kernelspec": {
   "display_name": "Python 3",
   "language": "python",
   "name": "python3"
  },
  "language_info": {
   "codemirror_mode": {
    "name": "ipython",
    "version": 3
   },
   "file_extension": ".py",
   "mimetype": "text/x-python",
   "name": "python",
   "nbconvert_exporter": "python",
   "pygments_lexer": "ipython3",
   "version": "3.7.0"
  },
  "toc": {
   "base_numbering": 1,
   "nav_menu": {},
   "number_sections": true,
   "sideBar": true,
   "skip_h1_title": false,
   "title_cell": "Table of Contents",
   "title_sidebar": "Contents",
   "toc_cell": false,
   "toc_position": {},
   "toc_section_display": true,
   "toc_window_display": false
  }
 },
 "nbformat": 4,
 "nbformat_minor": 4
}
